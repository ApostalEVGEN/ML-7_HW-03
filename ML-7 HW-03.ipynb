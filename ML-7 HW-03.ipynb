{
 "cells": [
  {
   "cell_type": "markdown",
   "id": "1a609154",
   "metadata": {},
   "source": [
    "# ML-7. Прогнозирование биологического ответа (HW-3)"
   ]
  },
  {
   "cell_type": "markdown",
   "id": "477d8668",
   "metadata": {},
   "source": [
    "### Задание:\n",
    "Обучить две модели; гипепараметры подобраны при помощи одного метода\n",
    "Обучить две модели; гипепараметры подобраны при помощи двух методов\n",
    "Обучить две модели; гипепараметры подобраны при помощи трёх методов\n",
    "Обучить две модели; гипепараметры подобраны при помощи четырёх методов\n",
    "Обучить две модели; гипепараметры подобраны при помощи четырёх методов:\n",
    "использовать все четыре метода (GridSeachCV, RandomizedSearchCV, Hyperopt, Optuna),\n",
    "использована кросс-валидация,\n",
    "логистическая регрессия,\n",
    "случайный лес.\n",
    "\n",
    "В качестве метрики будем использовать F1-score."
   ]
  },
  {
   "cell_type": "code",
   "execution_count": 1,
   "id": "b4895542",
   "metadata": {},
   "outputs": [],
   "source": [
    "#Импортируем используемые библиотеки\n",
    "import numpy as np\n",
    "import pandas as pd\n",
    "import matplotlib.pyplot as plt\n",
    "import seaborn as sns\n",
    "\n",
    "from sklearn import linear_model\n",
    "from sklearn import ensemble\n",
    "from sklearn import metrics\n",
    "from sklearn.model_selection import train_test_split\n",
    "\n",
    "from sklearn.model_selection import GridSearchCV\n",
    "from sklearn.model_selection import RandomizedSearchCV\n",
    "\n",
    "from sklearn.model_selection import cross_val_score\n",
    "import hyperopt\n",
    "from hyperopt import hp, fmin, tpe, Trials\n",
    "import optuna\n",
    "\n",
    "import warnings # для игнорирования предупреждений\n",
    "#Игнорируем предупреждения\n",
    "warnings.filterwarnings('ignore')"
   ]
  },
  {
   "cell_type": "code",
   "execution_count": 2,
   "id": "d5d74068",
   "metadata": {},
   "outputs": [
    {
     "data": {
      "text/html": [
       "<div>\n",
       "<style scoped>\n",
       "    .dataframe tbody tr th:only-of-type {\n",
       "        vertical-align: middle;\n",
       "    }\n",
       "\n",
       "    .dataframe tbody tr th {\n",
       "        vertical-align: top;\n",
       "    }\n",
       "\n",
       "    .dataframe thead th {\n",
       "        text-align: right;\n",
       "    }\n",
       "</style>\n",
       "<table border=\"1\" class=\"dataframe\">\n",
       "  <thead>\n",
       "    <tr style=\"text-align: right;\">\n",
       "      <th></th>\n",
       "      <th>Activity</th>\n",
       "      <th>D1</th>\n",
       "      <th>D2</th>\n",
       "      <th>D3</th>\n",
       "      <th>D4</th>\n",
       "      <th>D5</th>\n",
       "      <th>D6</th>\n",
       "      <th>D7</th>\n",
       "      <th>D8</th>\n",
       "      <th>D9</th>\n",
       "      <th>...</th>\n",
       "      <th>D1767</th>\n",
       "      <th>D1768</th>\n",
       "      <th>D1769</th>\n",
       "      <th>D1770</th>\n",
       "      <th>D1771</th>\n",
       "      <th>D1772</th>\n",
       "      <th>D1773</th>\n",
       "      <th>D1774</th>\n",
       "      <th>D1775</th>\n",
       "      <th>D1776</th>\n",
       "    </tr>\n",
       "  </thead>\n",
       "  <tbody>\n",
       "    <tr>\n",
       "      <th>0</th>\n",
       "      <td>1</td>\n",
       "      <td>0.000000</td>\n",
       "      <td>0.497009</td>\n",
       "      <td>0.10</td>\n",
       "      <td>0.0</td>\n",
       "      <td>0.132956</td>\n",
       "      <td>0.678031</td>\n",
       "      <td>0.273166</td>\n",
       "      <td>0.585445</td>\n",
       "      <td>0.743663</td>\n",
       "      <td>...</td>\n",
       "      <td>0</td>\n",
       "      <td>0</td>\n",
       "      <td>0</td>\n",
       "      <td>0</td>\n",
       "      <td>0</td>\n",
       "      <td>0</td>\n",
       "      <td>0</td>\n",
       "      <td>0</td>\n",
       "      <td>0</td>\n",
       "      <td>0</td>\n",
       "    </tr>\n",
       "    <tr>\n",
       "      <th>1</th>\n",
       "      <td>1</td>\n",
       "      <td>0.366667</td>\n",
       "      <td>0.606291</td>\n",
       "      <td>0.05</td>\n",
       "      <td>0.0</td>\n",
       "      <td>0.111209</td>\n",
       "      <td>0.803455</td>\n",
       "      <td>0.106105</td>\n",
       "      <td>0.411754</td>\n",
       "      <td>0.836582</td>\n",
       "      <td>...</td>\n",
       "      <td>1</td>\n",
       "      <td>1</td>\n",
       "      <td>1</td>\n",
       "      <td>1</td>\n",
       "      <td>0</td>\n",
       "      <td>1</td>\n",
       "      <td>0</td>\n",
       "      <td>0</td>\n",
       "      <td>1</td>\n",
       "      <td>0</td>\n",
       "    </tr>\n",
       "    <tr>\n",
       "      <th>2</th>\n",
       "      <td>1</td>\n",
       "      <td>0.033300</td>\n",
       "      <td>0.480124</td>\n",
       "      <td>0.00</td>\n",
       "      <td>0.0</td>\n",
       "      <td>0.209791</td>\n",
       "      <td>0.610350</td>\n",
       "      <td>0.356453</td>\n",
       "      <td>0.517720</td>\n",
       "      <td>0.679051</td>\n",
       "      <td>...</td>\n",
       "      <td>0</td>\n",
       "      <td>0</td>\n",
       "      <td>0</td>\n",
       "      <td>0</td>\n",
       "      <td>0</td>\n",
       "      <td>0</td>\n",
       "      <td>0</td>\n",
       "      <td>0</td>\n",
       "      <td>0</td>\n",
       "      <td>0</td>\n",
       "    </tr>\n",
       "    <tr>\n",
       "      <th>3</th>\n",
       "      <td>1</td>\n",
       "      <td>0.000000</td>\n",
       "      <td>0.538825</td>\n",
       "      <td>0.00</td>\n",
       "      <td>0.5</td>\n",
       "      <td>0.196344</td>\n",
       "      <td>0.724230</td>\n",
       "      <td>0.235606</td>\n",
       "      <td>0.288764</td>\n",
       "      <td>0.805110</td>\n",
       "      <td>...</td>\n",
       "      <td>0</td>\n",
       "      <td>0</td>\n",
       "      <td>0</td>\n",
       "      <td>0</td>\n",
       "      <td>0</td>\n",
       "      <td>0</td>\n",
       "      <td>0</td>\n",
       "      <td>0</td>\n",
       "      <td>0</td>\n",
       "      <td>0</td>\n",
       "    </tr>\n",
       "    <tr>\n",
       "      <th>4</th>\n",
       "      <td>0</td>\n",
       "      <td>0.100000</td>\n",
       "      <td>0.517794</td>\n",
       "      <td>0.00</td>\n",
       "      <td>0.0</td>\n",
       "      <td>0.494734</td>\n",
       "      <td>0.781422</td>\n",
       "      <td>0.154361</td>\n",
       "      <td>0.303809</td>\n",
       "      <td>0.812646</td>\n",
       "      <td>...</td>\n",
       "      <td>0</td>\n",
       "      <td>0</td>\n",
       "      <td>0</td>\n",
       "      <td>0</td>\n",
       "      <td>0</td>\n",
       "      <td>0</td>\n",
       "      <td>0</td>\n",
       "      <td>0</td>\n",
       "      <td>0</td>\n",
       "      <td>0</td>\n",
       "    </tr>\n",
       "    <tr>\n",
       "      <th>...</th>\n",
       "      <td>...</td>\n",
       "      <td>...</td>\n",
       "      <td>...</td>\n",
       "      <td>...</td>\n",
       "      <td>...</td>\n",
       "      <td>...</td>\n",
       "      <td>...</td>\n",
       "      <td>...</td>\n",
       "      <td>...</td>\n",
       "      <td>...</td>\n",
       "      <td>...</td>\n",
       "      <td>...</td>\n",
       "      <td>...</td>\n",
       "      <td>...</td>\n",
       "      <td>...</td>\n",
       "      <td>...</td>\n",
       "      <td>...</td>\n",
       "      <td>...</td>\n",
       "      <td>...</td>\n",
       "      <td>...</td>\n",
       "      <td>...</td>\n",
       "    </tr>\n",
       "    <tr>\n",
       "      <th>3746</th>\n",
       "      <td>1</td>\n",
       "      <td>0.033300</td>\n",
       "      <td>0.506409</td>\n",
       "      <td>0.10</td>\n",
       "      <td>0.0</td>\n",
       "      <td>0.209887</td>\n",
       "      <td>0.633426</td>\n",
       "      <td>0.297659</td>\n",
       "      <td>0.376124</td>\n",
       "      <td>0.727093</td>\n",
       "      <td>...</td>\n",
       "      <td>0</td>\n",
       "      <td>0</td>\n",
       "      <td>0</td>\n",
       "      <td>0</td>\n",
       "      <td>0</td>\n",
       "      <td>0</td>\n",
       "      <td>0</td>\n",
       "      <td>0</td>\n",
       "      <td>0</td>\n",
       "      <td>0</td>\n",
       "    </tr>\n",
       "    <tr>\n",
       "      <th>3747</th>\n",
       "      <td>1</td>\n",
       "      <td>0.133333</td>\n",
       "      <td>0.651023</td>\n",
       "      <td>0.15</td>\n",
       "      <td>0.0</td>\n",
       "      <td>0.151154</td>\n",
       "      <td>0.766505</td>\n",
       "      <td>0.170876</td>\n",
       "      <td>0.404546</td>\n",
       "      <td>0.787935</td>\n",
       "      <td>...</td>\n",
       "      <td>0</td>\n",
       "      <td>0</td>\n",
       "      <td>1</td>\n",
       "      <td>0</td>\n",
       "      <td>1</td>\n",
       "      <td>0</td>\n",
       "      <td>1</td>\n",
       "      <td>0</td>\n",
       "      <td>0</td>\n",
       "      <td>0</td>\n",
       "    </tr>\n",
       "    <tr>\n",
       "      <th>3748</th>\n",
       "      <td>0</td>\n",
       "      <td>0.200000</td>\n",
       "      <td>0.520564</td>\n",
       "      <td>0.00</td>\n",
       "      <td>0.0</td>\n",
       "      <td>0.179949</td>\n",
       "      <td>0.768785</td>\n",
       "      <td>0.177341</td>\n",
       "      <td>0.471179</td>\n",
       "      <td>0.872241</td>\n",
       "      <td>...</td>\n",
       "      <td>0</td>\n",
       "      <td>0</td>\n",
       "      <td>0</td>\n",
       "      <td>0</td>\n",
       "      <td>0</td>\n",
       "      <td>0</td>\n",
       "      <td>0</td>\n",
       "      <td>0</td>\n",
       "      <td>0</td>\n",
       "      <td>0</td>\n",
       "    </tr>\n",
       "    <tr>\n",
       "      <th>3749</th>\n",
       "      <td>1</td>\n",
       "      <td>0.100000</td>\n",
       "      <td>0.765646</td>\n",
       "      <td>0.00</td>\n",
       "      <td>0.0</td>\n",
       "      <td>0.536954</td>\n",
       "      <td>0.634936</td>\n",
       "      <td>0.342713</td>\n",
       "      <td>0.447162</td>\n",
       "      <td>0.672689</td>\n",
       "      <td>...</td>\n",
       "      <td>0</td>\n",
       "      <td>0</td>\n",
       "      <td>0</td>\n",
       "      <td>0</td>\n",
       "      <td>0</td>\n",
       "      <td>0</td>\n",
       "      <td>0</td>\n",
       "      <td>0</td>\n",
       "      <td>0</td>\n",
       "      <td>0</td>\n",
       "    </tr>\n",
       "    <tr>\n",
       "      <th>3750</th>\n",
       "      <td>0</td>\n",
       "      <td>0.133333</td>\n",
       "      <td>0.533952</td>\n",
       "      <td>0.00</td>\n",
       "      <td>0.0</td>\n",
       "      <td>0.347966</td>\n",
       "      <td>0.757971</td>\n",
       "      <td>0.230667</td>\n",
       "      <td>0.272652</td>\n",
       "      <td>0.854116</td>\n",
       "      <td>...</td>\n",
       "      <td>0</td>\n",
       "      <td>0</td>\n",
       "      <td>0</td>\n",
       "      <td>0</td>\n",
       "      <td>0</td>\n",
       "      <td>0</td>\n",
       "      <td>0</td>\n",
       "      <td>0</td>\n",
       "      <td>0</td>\n",
       "      <td>0</td>\n",
       "    </tr>\n",
       "  </tbody>\n",
       "</table>\n",
       "<p>3751 rows × 1777 columns</p>\n",
       "</div>"
      ],
      "text/plain": [
       "      Activity        D1        D2    D3   D4        D5        D6        D7  \\\n",
       "0            1  0.000000  0.497009  0.10  0.0  0.132956  0.678031  0.273166   \n",
       "1            1  0.366667  0.606291  0.05  0.0  0.111209  0.803455  0.106105   \n",
       "2            1  0.033300  0.480124  0.00  0.0  0.209791  0.610350  0.356453   \n",
       "3            1  0.000000  0.538825  0.00  0.5  0.196344  0.724230  0.235606   \n",
       "4            0  0.100000  0.517794  0.00  0.0  0.494734  0.781422  0.154361   \n",
       "...        ...       ...       ...   ...  ...       ...       ...       ...   \n",
       "3746         1  0.033300  0.506409  0.10  0.0  0.209887  0.633426  0.297659   \n",
       "3747         1  0.133333  0.651023  0.15  0.0  0.151154  0.766505  0.170876   \n",
       "3748         0  0.200000  0.520564  0.00  0.0  0.179949  0.768785  0.177341   \n",
       "3749         1  0.100000  0.765646  0.00  0.0  0.536954  0.634936  0.342713   \n",
       "3750         0  0.133333  0.533952  0.00  0.0  0.347966  0.757971  0.230667   \n",
       "\n",
       "            D8        D9  ...  D1767  D1768  D1769  D1770  D1771  D1772  \\\n",
       "0     0.585445  0.743663  ...      0      0      0      0      0      0   \n",
       "1     0.411754  0.836582  ...      1      1      1      1      0      1   \n",
       "2     0.517720  0.679051  ...      0      0      0      0      0      0   \n",
       "3     0.288764  0.805110  ...      0      0      0      0      0      0   \n",
       "4     0.303809  0.812646  ...      0      0      0      0      0      0   \n",
       "...        ...       ...  ...    ...    ...    ...    ...    ...    ...   \n",
       "3746  0.376124  0.727093  ...      0      0      0      0      0      0   \n",
       "3747  0.404546  0.787935  ...      0      0      1      0      1      0   \n",
       "3748  0.471179  0.872241  ...      0      0      0      0      0      0   \n",
       "3749  0.447162  0.672689  ...      0      0      0      0      0      0   \n",
       "3750  0.272652  0.854116  ...      0      0      0      0      0      0   \n",
       "\n",
       "      D1773  D1774  D1775  D1776  \n",
       "0         0      0      0      0  \n",
       "1         0      0      1      0  \n",
       "2         0      0      0      0  \n",
       "3         0      0      0      0  \n",
       "4         0      0      0      0  \n",
       "...     ...    ...    ...    ...  \n",
       "3746      0      0      0      0  \n",
       "3747      1      0      0      0  \n",
       "3748      0      0      0      0  \n",
       "3749      0      0      0      0  \n",
       "3750      0      0      0      0  \n",
       "\n",
       "[3751 rows x 1777 columns]"
      ]
     },
     "execution_count": 2,
     "metadata": {},
     "output_type": "execute_result"
    }
   ],
   "source": [
    "# Загружаем датафрейм.\n",
    "data_bio = pd.read_csv('C:\\\\Users\\\\ievge\\\\Desktop\\\\jupyter\\\\data\\\\_train_sem09 (1).csv')\n",
    "data_bio"
   ]
  },
  {
   "cell_type": "code",
   "execution_count": 3,
   "id": "d435522e",
   "metadata": {},
   "outputs": [],
   "source": [
    "#Отделяем из датасет целевой признак\n",
    "y = data_bio['Activity']\n",
    "x = data_bio.drop(['Activity'], axis=1)\n",
    "\n",
    "# Разбиваем данные на тренировочную и тестовую\n",
    "X_train, X_test, y_train, y_test = train_test_split(x, y, test_size=0.3, random_state=1, stratify=y)"
   ]
  },
  {
   "cell_type": "markdown",
   "id": "6f7ba59f",
   "metadata": {},
   "source": [
    "##### Логистическая регрессия\n",
    "\n",
    "Посмотрим на метрику f1-score при устрановленных по умолчанию гиперпараметров."
   ]
  },
  {
   "cell_type": "code",
   "execution_count": 4,
   "id": "4dc39d1b",
   "metadata": {},
   "outputs": [
    {
     "name": "stdout",
     "output_type": "stream",
     "text": [
      "f1_score на тренировочном наборе: 0.90\n",
      "accuracy на тестовом наборе: 0.76\n",
      "f1_score на тестовом наборе: 0.78\n"
     ]
    }
   ],
   "source": [
    "#Обучаем модель\n",
    "log_reg = linear_model.LogisticRegression(random_state=42, max_iter=600)\n",
    "log_reg.fit(X_train, y_train)\n",
    "\n",
    "#Делаем предсказание\n",
    "log_reg_train_pred = log_reg.predict(X_train)\n",
    "log_reg_test_pred = log_reg.predict(X_test)\n",
    "\n",
    "#Рассчитываем метрики\n",
    "print('f1_score на тренировочном наборе: {:.2f}'.format(metrics.f1_score(y_train, log_reg_train_pred)))\n",
    "print(\"accuracy на тестовом наборе: {:.2f}\".format(log_reg.score(X_test, y_test)))\n",
    "print('f1_score на тестовом наборе: {:.2f}'.format(metrics.f1_score(y_test, log_reg_test_pred)))"
   ]
  },
  {
   "cell_type": "markdown",
   "id": "16770cac",
   "metadata": {},
   "source": [
    "##### GridSearchCV"
   ]
  },
  {
   "cell_type": "code",
   "execution_count": 5,
   "id": "c807605d",
   "metadata": {},
   "outputs": [
    {
     "name": "stdout",
     "output_type": "stream",
     "text": [
      "Wall time: 16min 44s\n",
      "f1_score на тренировочном наборе: 0.85\n",
      "accuracy на тестовом наборе: 0.78\n",
      "f1_score на тестовом наборе: 0.80\n",
      "Наилучшие значения гиперпараметров: {'C': 0.1, 'penalty': 'l2', 'solver': 'lbfgs'}\n"
     ]
    }
   ],
   "source": [
    "#Задаем поиск гиперпараметров в виде словаря\n",
    "param_grid = {'penalty': ['l2'],\n",
    "              'solver': ['lbfgs', 'sag'],\n",
    "              'C': list(np.linspace(0.1, 0.5, 20, dtype=float))\n",
    "              }\n",
    "\n",
    "#С помощью GridSearchCV находим лучшие параметры для логистической регрессии\n",
    "grid_search_lr = GridSearchCV(\n",
    "    estimator=linear_model.LogisticRegression(\n",
    "    random_state=42,\n",
    "    max_iter=1000\n",
    "    ), \n",
    "    param_grid=param_grid, \n",
    "    cv=5, \n",
    "    n_jobs = -1\n",
    ")  \n",
    "\n",
    "#Обучаем модель и предсказываем результаты\n",
    "%time grid_search_lr.fit(X_train, y_train)\n",
    "y_train_pred = grid_search_lr.predict(X_train)\n",
    "y_test_pred = grid_search_lr.predict(X_test)\n",
    "\n",
    "#Рассчитываем метрики\n",
    "print('f1_score на тренировочном наборе: {:.2f}'.format(metrics.f1_score(y_train, y_train_pred)))\n",
    "print(\"accuracy на тестовом наборе: {:.2f}\".format(grid_search_lr.score(X_test, y_test)))\n",
    "print('f1_score на тестовом наборе: {:.2f}'.format(metrics.f1_score(y_test, y_test_pred)))\n",
    "print(\"Наилучшие значения гиперпараметров: {}\".format(grid_search_lr.best_params_))\n"
   ]
  },
  {
   "cell_type": "markdown",
   "id": "636a71f8",
   "metadata": {},
   "source": [
    "##### Вывод:\n",
    "С помощью гиперпараметров класса GridSearchCV нам удалось улучшить метрику f1-score, она составила - 0.80."
   ]
  },
  {
   "cell_type": "markdown",
   "id": "a23b0fd0",
   "metadata": {},
   "source": [
    "##### RandomizedSearchCV"
   ]
  },
  {
   "cell_type": "code",
   "execution_count": 6,
   "id": "d9935ef3",
   "metadata": {},
   "outputs": [
    {
     "name": "stdout",
     "output_type": "stream",
     "text": [
      "Wall time: 7min 44s\n",
      "f1_score на тренировочном наборе: 0.86\n",
      "accuracy на тестовом наборе: 0.77\n",
      "f1_score на тестовом наборе: 0.80\n",
      "Наилучшие значения гиперпараметров: {'solver': 'sag', 'penalty': 'l2', 'C': 0.12105263157894737}\n"
     ]
    }
   ],
   "source": [
    "#Задаем искомые гиперпараметры в виде словаря\n",
    "param_distributions = {'penalty': ['l2'] ,\n",
    "              'solver': ['lbfgs', 'sag'],\n",
    "               'C': list(np.linspace(0.1, 0.5, 20, dtype=float))},\n",
    "\n",
    "#С помощью RandomizedSearchCV находим параметры для логистической регрессии         \n",
    "random_search_lr = RandomizedSearchCV(\n",
    "    estimator=linear_model.LogisticRegression(random_state=42, max_iter=1000), \n",
    "    param_distributions=param_distributions, \n",
    "    cv=5, \n",
    "    n_iter = 15, \n",
    "    n_jobs = -1\n",
    ")  \n",
    "\n",
    "#Обучаем модель и предсказываем результаты\n",
    "%time random_search_lr.fit(X_train, y_train)\n",
    "y_train_pred = random_search_lr.predict(X_train)\n",
    "y_test_pred = random_search_lr.predict(X_test)\n",
    "\n",
    "#Рассчитываем метрики\n",
    "print('f1_score на тренировочном наборе: {:.2f}'.format(metrics.f1_score(y_train, y_train_pred)))\n",
    "print(\"accuracy на тестовом наборе: {:.2f}\".format(random_search_lr.score(X_test, y_test)))\n",
    "print('f1_score на тестовом наборе: {:.2f}'.format(metrics.f1_score(y_test, y_test_pred)))\n",
    "print(\"Наилучшие значения гиперпараметров: {}\".format(random_search_lr.best_params_))"
   ]
  },
  {
   "cell_type": "markdown",
   "id": "97c9e1ff",
   "metadata": {},
   "source": [
    "##### Вывод:\n",
    "При использовании класса RandomizedSearchCV мы нашли такие же параметры как и в GridSearchCV, но значительно сократили время работы кода."
   ]
  },
  {
   "cell_type": "markdown",
   "id": "2d1654f1",
   "metadata": {},
   "source": [
    "##### Hyperopt"
   ]
  },
  {
   "cell_type": "code",
   "execution_count": 7,
   "id": "78efaf62",
   "metadata": {},
   "outputs": [
    {
     "name": "stdout",
     "output_type": "stream",
     "text": [
      "100%|███████████████████████████████████████████████| 25/25 [11:43<00:00, 28.14s/trial, best loss: -0.7785419212939304]\n",
      "Наилучшие значения гиперпараметров {'C': 0.09664464567700914, 'penalty': 0, 'solver': 0}\n"
     ]
    }
   ],
   "source": [
    "#Задаем искомые гиперпараметры в виде словаря\n",
    "penalties = ['l2']\n",
    "solvers = ['sag', 'lbfgs']\n",
    "space = {'penalty': hp.choice('penalty', penalties),\n",
    "        'solver': hp.choice('solver', solvers),\n",
    "        'C': hp.uniform('C',0,1)}\n",
    "\n",
    "\n",
    "def hyperopt_rf(params, cv=5, X=X_train, y=y_train, random_state=42):\n",
    "    \"\"\"Функция получения комбинации гиперпараметров.\"\"\"\n",
    "\n",
    "#Строим модель\n",
    "    model = linear_model.LogisticRegression(**params, random_state=42, max_iter=5000)\n",
    "\n",
    "#Обучаем модель с помощью кросс-валидации\n",
    "    score = cross_val_score(model, X, y, cv=cv, scoring=\"f1\", n_jobs=-1).mean()\n",
    "\n",
    "#Метрику необходимо минимизировать, поэтому ставим знак минус\n",
    "    return -score\n",
    "\n",
    "\n",
    "#Залогируем полученные результаты\n",
    "trials = Trials() #используется для логирования результатов\n",
    "\n",
    "#Начинаем подбор гиперпараметров.\n",
    "best = fmin(hyperopt_rf,\n",
    "          space=space,\n",
    "          algo=tpe.suggest,\n",
    "          max_evals=25,\n",
    "          trials=trials,\n",
    "          rstate=np.random.default_rng(42)\n",
    "         )\n",
    "\n",
    "#Выводим наилучшие значения гиперпараметров\n",
    "print(\"Наилучшие значения гиперпараметров {}\".format(best))"
   ]
  },
  {
   "cell_type": "code",
   "execution_count": 8,
   "id": "bcd3c8f3",
   "metadata": {},
   "outputs": [
    {
     "name": "stdout",
     "output_type": "stream",
     "text": [
      "f1_score на обучающем наборе: 0.85\n",
      "accuracy на тестовом наборе: 0.78\n",
      "f1_score на тестовом наборе: 0.80\n",
      "100%|███████████████████████████████████████████████| 30/30 [03:07<00:00, 37.50s/trial, best loss: -0.7785419212939304]\n",
      "Наилучшие значения гиперпараметров {'C': 0.09664464567700914, 'penalty': 0, 'solver': 0}\n"
     ]
    }
   ],
   "source": [
    "#Строим логистическую модель\n",
    "model = linear_model.LogisticRegression(\n",
    "    max_iter=1000,\n",
    "    random_state=42, \n",
    "    penalty=penalties[best['penalty']],\n",
    "    solver=solvers[best['solver']],\n",
    "    C=best['C']\n",
    ")\n",
    "\n",
    "#Обучаем модель\n",
    "model.fit(X_train, y_train)\n",
    "\n",
    "#Предсказываем результат для тренировочной и тестовой выборки\n",
    "y_train_pred = model.predict(X_train)\n",
    "y_test_pred = model.predict(X_test)\n",
    "\n",
    "#Рассчитываем метрики\n",
    "print('f1_score на обучающем наборе: {:.2f}'.format(metrics.f1_score(y_train, y_train_pred)))\n",
    "print(\"accuracy на тестовом наборе: {:.2f}\".format(model.score(X_test, y_test)))\n",
    "print('f1_score на тестовом наборе: {:.2f}'.format(metrics.f1_score(y_test, y_test_pred)))\n",
    "\n",
    "#Продолжим подбор наилучших гиперпараметров\n",
    "best = fmin(hyperopt_rf,\n",
    "          space=space,\n",
    "          algo=tpe.suggest,\n",
    "          max_evals=30,\n",
    "          trials=trials,\n",
    "          rstate=np.random.default_rng(42)\n",
    "         )\n",
    "\n",
    "#Выводим наилучшие значения гиперпараметров\n",
    "print(\"Наилучшие значения гиперпараметров {}\".format(best))"
   ]
  },
  {
   "cell_type": "code",
   "execution_count": 9,
   "id": "ade2b2f8",
   "metadata": {},
   "outputs": [
    {
     "name": "stdout",
     "output_type": "stream",
     "text": [
      "f1_score на обучающем наборе: 0.85\n",
      "accuracy на тестовом наборе: 0.78\n",
      "f1_score на тестовом наборе: 0.80\n"
     ]
    }
   ],
   "source": [
    "#Строим еще одну модель логистической регрессии\n",
    "model = linear_model.LogisticRegression(\n",
    "    max_iter=1000,\n",
    "    random_state=42, \n",
    "    penalty=penalties[best['penalty']],\n",
    "    solver=solvers[best['solver']],\n",
    "    C=best['C']\n",
    ")\n",
    "\n",
    "#Обучаем модель\n",
    "model.fit(X_train, y_train)\n",
    "\n",
    "#Разбиваем на тренировочную и тестовую выборки\n",
    "y_train_pred = model.predict(X_train)\n",
    "y_test_pred = model.predict(X_test)\n",
    "\n",
    "#Рассчитываем метрики\n",
    "print('f1_score на обучающем наборе: {:.2f}'.format(metrics.f1_score(y_train, y_train_pred)))\n",
    "print(\"accuracy на тестовом наборе: {:.2f}\".format(model.score(X_test, y_test)))\n",
    "print('f1_score на тестовом наборе: {:.2f}'.format(metrics.f1_score(y_test, y_test_pred)))"
   ]
  },
  {
   "cell_type": "markdown",
   "id": "f651e688",
   "metadata": {},
   "source": [
    "##### Вывод:\n",
    "С помощью Hyperopt и использования кросс-валидации метрика f1-score составила - 0.80. Нам неудалось еще больше улучшить результаты."
   ]
  },
  {
   "cell_type": "markdown",
   "id": "aa1313d5",
   "metadata": {},
   "source": [
    "##### Optuna"
   ]
  },
  {
   "cell_type": "code",
   "execution_count": 10,
   "id": "4e0c89f7",
   "metadata": {},
   "outputs": [
    {
     "name": "stderr",
     "output_type": "stream",
     "text": [
      "[I 2023-07-01 17:42:54,994] A new study created in memory with name: LogisticRegression\n",
      "[I 2023-07-01 17:43:37,534] Trial 0 finished with value: 0.7779636562410126 and parameters: {'penalty': 'l2', 'solver': 'sag', 'C': 0.06617248288477207}. Best is trial 0 with value: 0.7779636562410126.\n",
      "[I 2023-07-01 17:44:33,689] Trial 1 finished with value: 0.7736781571834817 and parameters: {'penalty': 'l2', 'solver': 'sag', 'C': 0.9040635567315681}. Best is trial 0 with value: 0.7779636562410126.\n",
      "[I 2023-07-01 17:44:46,359] Trial 2 finished with value: 0.7716018385912831 and parameters: {'penalty': 'l2', 'solver': 'lbfgs', 'C': 0.7795880121993686}. Best is trial 0 with value: 0.7779636562410126.\n",
      "[I 2023-07-01 17:44:50,454] Trial 3 finished with value: 0.7827771905495385 and parameters: {'penalty': 'l2', 'solver': 'lbfgs', 'C': 0.03192810231452914}. Best is trial 3 with value: 0.7827771905495385.\n",
      "[I 2023-07-01 17:45:54,110] Trial 4 finished with value: 0.7749393407438795 and parameters: {'penalty': 'l2', 'solver': 'sag', 'C': 0.9976483748096239}. Best is trial 3 with value: 0.7827771905495385.\n",
      "[I 2023-07-01 17:46:51,809] Trial 5 finished with value: 0.7741039366297284 and parameters: {'penalty': 'l2', 'solver': 'sag', 'C': 0.8819469589215385}. Best is trial 3 with value: 0.7827771905495385.\n",
      "[I 2023-07-01 17:46:56,835] Trial 6 finished with value: 0.7754268717046873 and parameters: {'penalty': 'l2', 'solver': 'lbfgs', 'C': 0.04678573292804111}. Best is trial 3 with value: 0.7827771905495385.\n",
      "[I 2023-07-01 17:48:08,678] Trial 7 finished with value: 0.770923978565383 and parameters: {'penalty': 'l2', 'solver': 'sag', 'C': 0.2665387897056305}. Best is trial 3 with value: 0.7827771905495385.\n",
      "[I 2023-07-01 17:49:22,454] Trial 8 finished with value: 0.7702498874553622 and parameters: {'penalty': 'l2', 'solver': 'sag', 'C': 0.507102659007538}. Best is trial 3 with value: 0.7827771905495385.\n",
      "[I 2023-07-01 17:49:26,505] Trial 9 finished with value: 0.7798665732990268 and parameters: {'penalty': 'l2', 'solver': 'lbfgs', 'C': 0.017657715695410636}. Best is trial 3 with value: 0.7827771905495385.\n",
      "[I 2023-07-01 17:49:35,893] Trial 10 finished with value: 0.771995957919326 and parameters: {'penalty': 'l2', 'solver': 'lbfgs', 'C': 0.32453864744554584}. Best is trial 3 with value: 0.7827771905495385.\n",
      "[I 2023-07-01 17:49:39,104] Trial 11 finished with value: 0.7777804178225655 and parameters: {'penalty': 'l2', 'solver': 'lbfgs', 'C': 0.013429855518128697}. Best is trial 3 with value: 0.7827771905495385.\n",
      "[I 2023-07-01 17:49:46,982] Trial 12 finished with value: 0.7721376242317521 and parameters: {'penalty': 'l2', 'solver': 'lbfgs', 'C': 0.21547676951679676}. Best is trial 3 with value: 0.7827771905495385.\n",
      "[I 2023-07-01 17:49:53,893] Trial 13 finished with value: 0.7756409833693054 and parameters: {'penalty': 'l2', 'solver': 'lbfgs', 'C': 0.14955936784315926}. Best is trial 3 with value: 0.7827771905495385.\n",
      "[I 2023-07-01 17:49:56,149] Trial 14 finished with value: 0.7643955605456407 and parameters: {'penalty': 'l2', 'solver': 'lbfgs', 'C': 0.0032942123863048504}. Best is trial 3 with value: 0.7827771905495385.\n",
      "[I 2023-07-01 17:50:06,397] Trial 15 finished with value: 0.771715532769162 and parameters: {'penalty': 'l2', 'solver': 'lbfgs', 'C': 0.3591504687191186}. Best is trial 3 with value: 0.7827771905495385.\n",
      "[I 2023-07-01 17:50:13,723] Trial 16 finished with value: 0.7765403960604291 and parameters: {'penalty': 'l2', 'solver': 'lbfgs', 'C': 0.16584885655680479}. Best is trial 3 with value: 0.7827771905495385.\n",
      "[I 2023-07-01 17:50:24,223] Trial 17 finished with value: 0.7699697549340317 and parameters: {'penalty': 'l2', 'solver': 'lbfgs', 'C': 0.45403041799606836}. Best is trial 3 with value: 0.7827771905495385.\n",
      "[I 2023-07-01 17:50:30,477] Trial 18 finished with value: 0.777728429704323 and parameters: {'penalty': 'l2', 'solver': 'lbfgs', 'C': 0.12781284522071532}. Best is trial 3 with value: 0.7827771905495385.\n",
      "[I 2023-07-01 17:50:37,798] Trial 19 finished with value: 0.7725569037039306 and parameters: {'penalty': 'l2', 'solver': 'lbfgs', 'C': 0.2028562390054809}. Best is trial 3 with value: 0.7827771905495385.\n"
     ]
    },
    {
     "name": "stdout",
     "output_type": "stream",
     "text": [
      "Наилучшие значения гиперпараметров {'penalty': 'l2', 'solver': 'lbfgs', 'C': 0.03192810231452914}\n"
     ]
    }
   ],
   "source": [
    "def optuna_rf(trial, cv=5, X=X_train, y=y_train, random_state=42):\n",
    "    \"\"\"Функция получения комбинации гиперпараметров.\"\"\"\n",
    "    \n",
    "#Задаем пространства поиска гиперпараметров\n",
    "    penalties = ['l2']\n",
    "    solvers = ['sag', 'lbfgs']\n",
    "    penalty = trial.suggest_categorical('penalty', penalties)\n",
    "    solver = trial.suggest_categorical('solver', solvers)\n",
    "    C = trial.suggest_float('C', 0, 1)\n",
    "\n",
    "#Создаем модель\n",
    "    model = linear_model.LogisticRegression(penalty=penalty,\n",
    "                                          solver=solver,\n",
    "                                          C=C,\n",
    "                                          random_state=42,\n",
    "                                          max_iter=1000)\n",
    "#Обучаем модель\n",
    "    model.fit(X_train, y_train)\n",
    "    score = cross_val_score(model, X, y, cv=cv, scoring=\"f1\", n_jobs=-1).mean()\n",
    "\n",
    "    return score\n",
    "\n",
    "\n",
    "#Создаем исследуемый объект\n",
    "study = optuna.create_study(study_name=\"LogisticRegression\", direction=\"maximize\")\n",
    "\n",
    "#Ищем лучшую комбинацию гиперпараметров n_trials раз\n",
    "study.optimize(optuna_rf, n_trials=20)\n",
    "\n",
    "print(\"Наилучшие значения гиперпараметров {}\".format(study.best_params))"
   ]
  },
  {
   "cell_type": "code",
   "execution_count": 11,
   "id": "98c2bc3c",
   "metadata": {},
   "outputs": [
    {
     "name": "stdout",
     "output_type": "stream",
     "text": [
      "f1_score на тренировочном наборе: 0.83\n",
      "accuracy на тестовом наборе: 0.78\n",
      "f1_score на тестовом наборе: 0.80\n"
     ]
    }
   ],
   "source": [
    "#Создаем модель\n",
    "model = linear_model.LogisticRegression(**study.best_params,random_state=42, max_iter=1000)\n",
    "\n",
    "#Обучаем модель\n",
    "model.fit(X_train, y_train)\n",
    "\n",
    "#Предсказываем результат для тренировочной и тестовой выборки\n",
    "y_train_pred = model.predict(X_train)\n",
    "y_test_pred = model.predict(X_test)\n",
    "\n",
    "#Рассчитываем метрики\n",
    "print('f1_score на тренировочном наборе: {:.2f}'.format(metrics.f1_score(y_train, y_train_pred)))\n",
    "print(\"accuracy на тестовом наборе: {:.2f}\".format(model.score(X_test, y_test)))\n",
    "print('f1_score на тестовом наборе: {:.2f}'.format(metrics.f1_score(y_test, y_test_pred)))"
   ]
  },
  {
   "cell_type": "markdown",
   "id": "90c77bb2",
   "metadata": {},
   "source": [
    "Вывод:\n",
    "С помощью гиперпараметров найденных Optuna получили такие же значения метрики f1-score как и при других классах 0.80."
   ]
  },
  {
   "cell_type": "markdown",
   "id": "c5798e3a",
   "metadata": {},
   "source": [
    "2. Случайный лес\n",
    "Посмотрим на метрику f1-score при устрановленных по умолчанию гиперпараметров."
   ]
  },
  {
   "cell_type": "code",
   "execution_count": 12,
   "id": "4dbe1487",
   "metadata": {},
   "outputs": [
    {
     "name": "stdout",
     "output_type": "stream",
     "text": [
      "f1_score на тренировочном наборе: 1.00\n",
      "accuracy на тестовом наборе: 0.80\n",
      "f1_score на тестовом наборе: 0.82\n"
     ]
    }
   ],
   "source": [
    "#Обучаем модель\n",
    "forest = ensemble.RandomForestClassifier(random_state=42)\n",
    "forest.fit(X_train, y_train)\n",
    "\n",
    "#Делаем предсказание\n",
    "forest_train_pred = forest.predict(X_train)\n",
    "forest_test_pred = forest.predict(X_test)\n",
    "\n",
    "#Рассчитываем метрики\n",
    "print('f1_score на тренировочном наборе: {:.2f}'.format(metrics.f1_score(y_train, forest_train_pred)))\n",
    "print(\"accuracy на тестовом наборе: {:.2f}\".format(forest.score(X_test, y_test)))\n",
    "print('f1_score на тестовом наборе: {:.2f}'.format(metrics.f1_score(y_test, forest_test_pred)))"
   ]
  },
  {
   "cell_type": "markdown",
   "id": "d05b9197",
   "metadata": {},
   "source": [
    "##### GridSearchCV"
   ]
  },
  {
   "cell_type": "code",
   "execution_count": 13,
   "id": "59cbba18",
   "metadata": {},
   "outputs": [
    {
     "name": "stdout",
     "output_type": "stream",
     "text": [
      "Wall time: 2min 31s\n",
      "f1_score на тренировочном наборе: 0.98\n",
      "accuracy на тестовом наборе: 0.79\n",
      "f1_score на тестовом наборе: 0.82\n",
      "Наилучшие значения гиперпараметров: {'criterion': 'entropy', 'max_depth': 30, 'min_samples_leaf': 3, 'n_estimators': 110}\n"
     ]
    }
   ],
   "source": [
    "#Задаем искомые гиперпараметры в виде словаря\n",
    "param_grid = {'n_estimators': list(range(80, 200, 30)),\n",
    "            'min_samples_leaf': [3],\n",
    "            'max_depth': list(np.linspace(20, 40, 5, dtype=int)),\n",
    "            'criterion': ['gini', 'entropy']\n",
    "            }\n",
    "\n",
    "#С помощью GridSearchCV находим наилучшие параметры для логистической регрессии\n",
    "grid_search_forest = GridSearchCV(\n",
    "    estimator=ensemble.RandomForestClassifier(random_state=42), \n",
    "    param_grid=param_grid, \n",
    "    cv=5, \n",
    "    n_jobs = -1\n",
    ")  \n",
    "\n",
    "#Обучаем модель и предсказываем результаты\n",
    "%time grid_search_forest.fit(X_train, y_train)\n",
    "y_train_pred = grid_search_forest.predict(X_train)\n",
    "y_test_pred = grid_search_forest.predict(X_test)\n",
    "\n",
    "#Рассчитываем метрики\n",
    "print('f1_score на тренировочном наборе: {:.2f}'.format(metrics.f1_score(y_train, y_train_pred)))\n",
    "print(\"accuracy на тестовом наборе: {:.2f}\".format(grid_search_forest.score(X_test, y_test)))\n",
    "print('f1_score на тестовом наборе: {:.2f}'.format(metrics.f1_score(y_test, y_test_pred)))\n",
    "print(\"Наилучшие значения гиперпараметров: {}\".format(grid_search_forest.best_params_))"
   ]
  },
  {
   "cell_type": "markdown",
   "id": "2510bf83",
   "metadata": {},
   "source": [
    "Вывод:\n",
    "С помощью подобранных гипераметров классом GridSearchCV нам не удалось улучшить метрику f1-score и она также составила 0.82.\n",
    "\n"
   ]
  },
  {
   "cell_type": "markdown",
   "id": "a21527db",
   "metadata": {},
   "source": [
    "##### RandomizedSearchCV"
   ]
  },
  {
   "cell_type": "code",
   "execution_count": 14,
   "id": "bdbea01a",
   "metadata": {},
   "outputs": [
    {
     "name": "stdout",
     "output_type": "stream",
     "text": [
      "Wall time: 52.8 s\n",
      "f1_score на тренировочном наборе: 0.98\n",
      "accuracy на тестовом наборе: 0.79\n",
      "f1_score на тестовом наборе: 0.82\n",
      "Наилучшие значения гиперпараметров: {'n_estimators': 110, 'min_samples_leaf': 3, 'max_depth': 40, 'criterion': 'entropy'}\n"
     ]
    }
   ],
   "source": [
    "#Задаем искомые гиперпараметры в виде словаря\n",
    "param_distributions = {'n_estimators': list(range(80, 200, 30)),\n",
    "            'min_samples_leaf': [3],\n",
    "            'max_depth': list(np.linspace(20, 40, 5, dtype=int)),\n",
    "            'criterion': ['gini', 'entropy']\n",
    "            }\n",
    "\n",
    "#С помощью RandomizedSearchCV находим наилучшие параметры для логистической регрессии            \n",
    "random_search_forest = RandomizedSearchCV(\n",
    "    estimator=ensemble.RandomForestClassifier(random_state=42), \n",
    "    param_distributions=param_distributions, \n",
    "    cv=5, \n",
    "    n_iter = 15, \n",
    "    n_jobs = -1\n",
    ")  \n",
    "\n",
    "#Обучаем модель и предсказываем результаты\n",
    "%time random_search_forest.fit(X_train, y_train)\n",
    "y_train_pred = random_search_forest.predict(X_train)\n",
    "y_test_pred = random_search_forest.predict(X_test)\n",
    "\n",
    "#Рассчитываем метрики\n",
    "print('f1_score на тренировочном наборе: {:.2f}'.format(metrics.f1_score(y_train, y_train_pred)))\n",
    "print(\"accuracy на тестовом наборе: {:.2f}\".format(random_search_forest.score(X_test, y_test)))\n",
    "print('f1_score на тестовом наборе: {:.2f}'.format(metrics.f1_score(y_test, y_test_pred)))\n",
    "print(\"Наилучшие значения гиперпараметров: {}\".format(random_search_forest.best_params_))"
   ]
  },
  {
   "cell_type": "markdown",
   "id": "2f558604",
   "metadata": {},
   "source": [
    "##### Вывод:\n",
    "С помощью подобранных гиперпараметров классом RandomizedSearchCV метрика f1-score осталась такая же как и при помощи GridSearchCV."
   ]
  },
  {
   "cell_type": "markdown",
   "id": "7fa786d0",
   "metadata": {},
   "source": [
    "##### Hyperopt"
   ]
  },
  {
   "cell_type": "code",
   "execution_count": 15,
   "id": "a83020f5",
   "metadata": {},
   "outputs": [
    {
     "name": "stdout",
     "output_type": "stream",
     "text": [
      "100%|███████████████████████████████████████████████| 25/25 [02:04<00:00,  4.97s/trial, best loss: -0.8127261258298031]\n",
      "Наилучшие значения гиперпараметров {'criterion': 1, 'max_depth': 22.0, 'min_samples_leaf': 2.0, 'n_estimators': 154.0}\n"
     ]
    }
   ],
   "source": [
    "#Задаем искомые гиперпараметры в виде словаря\n",
    "criterions = ['gini', 'entropy']\n",
    "space={'n_estimators': hp.quniform('n_estimators', 80, 200, 1),\n",
    "       'max_depth' : hp.quniform('max_depth', 15, 40, 1),\n",
    "       'min_samples_leaf': hp.quniform('min_samples_leaf', 2, 10, 1),\n",
    "       'criterion': hp.choice('criterion', criterions)\n",
    "      }\n",
    "\n",
    "\n",
    "def hyperopt_rf(params, cv=5, X=X_train, y=y_train, random_state=42):\n",
    "    \"\"\"Функция получения комбинации гиперпараметров.\"\"\"\n",
    "    params = {'n_estimators': int(params['n_estimators']), \n",
    "            'max_depth': int(params['max_depth']), \n",
    "            'min_samples_leaf': int(params['min_samples_leaf']),\n",
    "            'criterion': params['criterion']\n",
    "            }\n",
    "#Строим модель.\n",
    "    model = ensemble.RandomForestClassifier(**params, random_state=42)\n",
    "\n",
    "#Обучаем модель с помощью кросс-валидации\n",
    "    score = cross_val_score(model, X, y, cv=cv, scoring=\"f1\", n_jobs=-1).mean()\n",
    "\n",
    "#Метрику необходимо минимизировать, поэтому ставим знак минус.\n",
    "    return -score\n",
    "\n",
    "\n",
    "#Залогируем полученные результаты\n",
    "trials = Trials() # используется для логирования результатов\n",
    "\n",
    "#Начинаем подбор гиперпараметров\n",
    "best = fmin(hyperopt_rf,\n",
    "          space=space,\n",
    "          algo=tpe.suggest,\n",
    "          max_evals=25,\n",
    "          trials=trials,\n",
    "          rstate=np.random.default_rng(42)\n",
    "         )\n",
    "\n",
    "#Выводим наилучшие значения гиперпараметров\n",
    "print(\"Наилучшие значения гиперпараметров {}\".format(best))"
   ]
  },
  {
   "cell_type": "code",
   "execution_count": 16,
   "id": "72ffe0f2",
   "metadata": {},
   "outputs": [
    {
     "name": "stdout",
     "output_type": "stream",
     "text": [
      "f1_score на обучающем наборе: 1.00\n",
      "accuracy на тестовом наборе: 0.80\n",
      "f1_score на тестовом наборе: 0.82\n"
     ]
    }
   ],
   "source": [
    "#Строим  модель\n",
    "model = ensemble.RandomForestClassifier(\n",
    "    random_state=42, \n",
    "    n_estimators=int(best['n_estimators']),\n",
    "    criterion=criterions[best['criterion']],\n",
    "    max_depth=int(best['max_depth']),\n",
    "    min_samples_leaf=int(best['min_samples_leaf'])\n",
    ")\n",
    "\n",
    "#Обучаем модель\n",
    "model.fit(X_train, y_train)\n",
    "\n",
    "#Предсказываем результат для тренировочной и тестовой выборки\n",
    "y_train_pred = model.predict(X_train)\n",
    "y_test_pred = model.predict(X_test)\n",
    "\n",
    "#Рассчитываем метрики\n",
    "print('f1_score на обучающем наборе: {:.2f}'.format(metrics.f1_score(y_train, y_train_pred)))\n",
    "print(\"accuracy на тестовом наборе: {:.2f}\".format(model.score(X_test, y_test)))\n",
    "print('f1_score на тестовом наборе: {:.2f}'.format(metrics.f1_score(y_test, y_test_pred)))"
   ]
  },
  {
   "cell_type": "code",
   "execution_count": 17,
   "id": "0e2287fc",
   "metadata": {},
   "outputs": [
    {
     "name": "stdout",
     "output_type": "stream",
     "text": [
      "100%|███████████████████████████████████████████████| 30/30 [00:33<00:00,  6.72s/trial, best loss: -0.8127261258298031]\n",
      "Наилучшие значения гиперпараметров {'criterion': 1, 'max_depth': 22.0, 'min_samples_leaf': 2.0, 'n_estimators': 154.0}\n"
     ]
    }
   ],
   "source": [
    "#Продолжим подбор наилучших гиперпараметров\n",
    "best = fmin(hyperopt_rf,\n",
    "          space=space,\n",
    "          algo=tpe.suggest,\n",
    "          max_evals=30,\n",
    "          trials=trials,\n",
    "          rstate=np.random.default_rng(42)\n",
    "         )\n",
    "\n",
    "#Выводим наилучшие значения гиперпараметров\n",
    "print(\"Наилучшие значения гиперпараметров {}\".format(best))"
   ]
  },
  {
   "cell_type": "code",
   "execution_count": 18,
   "id": "67596348",
   "metadata": {},
   "outputs": [
    {
     "name": "stdout",
     "output_type": "stream",
     "text": [
      "f1_score на обучающем наборе: 1.00\n",
      "accuracy на тестовом наборе: 0.80\n",
      "f1_score на тестовом наборе: 0.82\n"
     ]
    }
   ],
   "source": [
    "#Строим модель\n",
    "model = ensemble.RandomForestClassifier(\n",
    "    random_state=42, \n",
    "    n_estimators=int(best['n_estimators']),\n",
    "    criterion=criterions[best['criterion']],\n",
    "    max_depth=int(best['max_depth']),\n",
    "    min_samples_leaf=int(best['min_samples_leaf'])\n",
    ")\n",
    "\n",
    "#Обучаем модель\n",
    "model.fit(X_train, y_train)\n",
    "\n",
    "#Предсказываем результат для тренировочной и тестовой выборки\n",
    "y_train_pred = model.predict(X_train)\n",
    "y_test_pred = model.predict(X_test)\n",
    "\n",
    "#Рассчитываем метрики\n",
    "print('f1_score на обучающем наборе: {:.2f}'.format(metrics.f1_score(y_train, y_train_pred)))\n",
    "print(\"accuracy на тестовом наборе: {:.2f}\".format(model.score(X_test, y_test)))\n",
    "print('f1_score на тестовом наборе: {:.2f}'.format(metrics.f1_score(y_test, y_test_pred)))"
   ]
  },
  {
   "cell_type": "markdown",
   "id": "e127f3dd",
   "metadata": {},
   "source": [
    "##### Вывод:\n",
    "С помощью Hyperopt мы не смогли улучшить f1-score."
   ]
  },
  {
   "cell_type": "markdown",
   "id": "bfc3af9c",
   "metadata": {},
   "source": [
    "##### Optuna"
   ]
  },
  {
   "cell_type": "code",
   "execution_count": 19,
   "id": "19d673c8",
   "metadata": {},
   "outputs": [
    {
     "name": "stderr",
     "output_type": "stream",
     "text": [
      "[I 2023-07-01 17:56:50,356] A new study created in memory with name: RandomForestClassifier\n",
      "[I 2023-07-01 17:56:54,498] Trial 0 finished with value: 0.7828369996861662 and parameters: {'n_estimators': 99, 'max_depth': 8, 'min_samples_leaf': 7, 'criterion': 'entropy'}. Best is trial 0 with value: 0.7828369996861662.\n",
      "[I 2023-07-01 17:56:56,837] Trial 1 finished with value: 0.7854776038813048 and parameters: {'n_estimators': 50, 'max_depth': 31, 'min_samples_leaf': 10, 'criterion': 'gini'}. Best is trial 1 with value: 0.7854776038813048.\n",
      "[I 2023-07-01 17:57:00,429] Trial 2 finished with value: 0.7881462648056984 and parameters: {'n_estimators': 85, 'max_depth': 14, 'min_samples_leaf': 9, 'criterion': 'gini'}. Best is trial 2 with value: 0.7881462648056984.\n",
      "[I 2023-07-01 17:57:04,563] Trial 3 finished with value: 0.8027928988271249 and parameters: {'n_estimators': 66, 'max_depth': 39, 'min_samples_leaf': 3, 'criterion': 'entropy'}. Best is trial 3 with value: 0.8027928988271249.\n",
      "[I 2023-07-01 17:57:10,697] Trial 4 finished with value: 0.7920993241236453 and parameters: {'n_estimators': 152, 'max_depth': 20, 'min_samples_leaf': 8, 'criterion': 'gini'}. Best is trial 3 with value: 0.8027928988271249.\n",
      "[I 2023-07-01 17:57:14,634] Trial 5 finished with value: 0.7779922773428485 and parameters: {'n_estimators': 138, 'max_depth': 6, 'min_samples_leaf': 6, 'criterion': 'gini'}. Best is trial 3 with value: 0.8027928988271249.\n",
      "[I 2023-07-01 17:57:25,858] Trial 6 finished with value: 0.8108299791207703 and parameters: {'n_estimators': 187, 'max_depth': 33, 'min_samples_leaf': 2, 'criterion': 'entropy'}. Best is trial 6 with value: 0.8108299791207703.\n",
      "[I 2023-07-01 17:57:30,923] Trial 7 finished with value: 0.8025396892193729 and parameters: {'n_estimators': 90, 'max_depth': 14, 'min_samples_leaf': 4, 'criterion': 'gini'}. Best is trial 6 with value: 0.8108299791207703.\n",
      "[I 2023-07-01 17:57:35,273] Trial 8 finished with value: 0.7949214858429556 and parameters: {'n_estimators': 87, 'max_depth': 17, 'min_samples_leaf': 6, 'criterion': 'gini'}. Best is trial 6 with value: 0.8108299791207703.\n",
      "[I 2023-07-01 17:57:39,039] Trial 9 finished with value: 0.7999881889184659 and parameters: {'n_estimators': 56, 'max_depth': 21, 'min_samples_leaf': 5, 'criterion': 'entropy'}. Best is trial 6 with value: 0.8108299791207703.\n",
      "[I 2023-07-01 17:57:50,518] Trial 10 finished with value: 0.8080319502283068 and parameters: {'n_estimators': 197, 'max_depth': 30, 'min_samples_leaf': 3, 'criterion': 'entropy'}. Best is trial 6 with value: 0.8108299791207703.\n",
      "[I 2023-07-01 17:58:03,166] Trial 11 finished with value: 0.8108075654248064 and parameters: {'n_estimators': 192, 'max_depth': 30, 'min_samples_leaf': 2, 'criterion': 'entropy'}. Best is trial 6 with value: 0.8108299791207703.\n",
      "[I 2023-07-01 17:58:15,340] Trial 12 finished with value: 0.8085810024742346 and parameters: {'n_estimators': 199, 'max_depth': 30, 'min_samples_leaf': 2, 'criterion': 'entropy'}. Best is trial 6 with value: 0.8108299791207703.\n",
      "[I 2023-07-01 17:58:25,821] Trial 13 finished with value: 0.8098429986413025 and parameters: {'n_estimators': 173, 'max_depth': 37, 'min_samples_leaf': 2, 'criterion': 'entropy'}. Best is trial 6 with value: 0.8108299791207703.\n",
      "[I 2023-07-01 17:58:35,074] Trial 14 finished with value: 0.8048263224226332 and parameters: {'n_estimators': 169, 'max_depth': 34, 'min_samples_leaf': 4, 'criterion': 'entropy'}. Best is trial 6 with value: 0.8108299791207703.\n",
      "[I 2023-07-01 17:58:45,474] Trial 15 finished with value: 0.8080992186769566 and parameters: {'n_estimators': 174, 'max_depth': 25, 'min_samples_leaf': 2, 'criterion': 'entropy'}. Best is trial 6 with value: 0.8108299791207703.\n",
      "[I 2023-07-01 17:58:52,179] Trial 16 finished with value: 0.8025192449142077 and parameters: {'n_estimators': 121, 'max_depth': 25, 'min_samples_leaf': 4, 'criterion': 'entropy'}. Best is trial 6 with value: 0.8108299791207703.\n",
      "[I 2023-07-01 17:59:02,859] Trial 17 finished with value: 0.8069176756432468 and parameters: {'n_estimators': 184, 'max_depth': 34, 'min_samples_leaf': 3, 'criterion': 'entropy'}. Best is trial 6 with value: 0.8108299791207703.\n",
      "[I 2023-07-01 17:59:11,012] Trial 18 finished with value: 0.799851548361318 and parameters: {'n_estimators': 155, 'max_depth': 26, 'min_samples_leaf': 5, 'criterion': 'entropy'}. Best is trial 6 with value: 0.8108299791207703.\n",
      "[I 2023-07-01 17:59:18,701] Trial 19 finished with value: 0.8094370125188893 and parameters: {'n_estimators': 125, 'max_depth': 35, 'min_samples_leaf': 2, 'criterion': 'entropy'}. Best is trial 6 with value: 0.8108299791207703.\n",
      "[I 2023-07-01 17:59:26,509] Trial 20 finished with value: 0.7991802705467903 and parameters: {'n_estimators': 150, 'max_depth': 40, 'min_samples_leaf': 5, 'criterion': 'entropy'}. Best is trial 6 with value: 0.8108299791207703.\n",
      "[I 2023-07-01 17:59:37,845] Trial 21 finished with value: 0.8085911572678872 and parameters: {'n_estimators': 182, 'max_depth': 36, 'min_samples_leaf': 2, 'criterion': 'entropy'}. Best is trial 6 with value: 0.8108299791207703.\n",
      "[I 2023-07-01 17:59:48,100] Trial 22 finished with value: 0.8079939581895305 and parameters: {'n_estimators': 168, 'max_depth': 28, 'min_samples_leaf': 3, 'criterion': 'entropy'}. Best is trial 6 with value: 0.8108299791207703.\n",
      "[I 2023-07-01 17:59:59,998] Trial 23 finished with value: 0.8104289535090132 and parameters: {'n_estimators': 188, 'max_depth': 36, 'min_samples_leaf': 2, 'criterion': 'entropy'}. Best is trial 6 with value: 0.8108299791207703.\n",
      "[I 2023-07-01 18:00:12,325] Trial 24 finished with value: 0.8062861575958241 and parameters: {'n_estimators': 191, 'max_depth': 33, 'min_samples_leaf': 3, 'criterion': 'entropy'}. Best is trial 6 with value: 0.8108299791207703.\n",
      "[I 2023-07-01 18:00:22,599] Trial 25 finished with value: 0.8038320750721258 and parameters: {'n_estimators': 188, 'max_depth': 31, 'min_samples_leaf': 4, 'criterion': 'entropy'}. Best is trial 6 with value: 0.8108299791207703.\n",
      "[I 2023-07-01 18:00:33,005] Trial 26 finished with value: 0.80819406392889 and parameters: {'n_estimators': 162, 'max_depth': 38, 'min_samples_leaf': 2, 'criterion': 'entropy'}. Best is trial 6 with value: 0.8108299791207703.\n",
      "[I 2023-07-01 18:00:41,986] Trial 27 finished with value: 0.8053619701380658 and parameters: {'n_estimators': 144, 'max_depth': 28, 'min_samples_leaf': 3, 'criterion': 'entropy'}. Best is trial 6 with value: 0.8108299791207703.\n",
      "[I 2023-07-01 18:00:51,455] Trial 28 finished with value: 0.7984733518161433 and parameters: {'n_estimators': 178, 'max_depth': 32, 'min_samples_leaf': 7, 'criterion': 'entropy'}. Best is trial 6 with value: 0.8108299791207703.\n",
      "[I 2023-07-01 18:01:03,973] Trial 29 finished with value: 0.8067762738501407 and parameters: {'n_estimators': 200, 'max_depth': 28, 'min_samples_leaf': 4, 'criterion': 'entropy'}. Best is trial 6 with value: 0.8108299791207703.\n"
     ]
    },
    {
     "name": "stdout",
     "output_type": "stream",
     "text": [
      "Наилучшие значения гиперпараметров {'n_estimators': 187, 'max_depth': 33, 'min_samples_leaf': 2, 'criterion': 'entropy'}\n"
     ]
    }
   ],
   "source": [
    "def optuna_rf(trial, cv=5, X=X_train, y=y_train, random_state=42):\n",
    "    \"\"\"Функция получения комбинации гиперпараметров.\"\"\"\n",
    "    \n",
    "#Задаем пространства поиска гиперпараметров\n",
    "    criterions = ['gini', 'entropy']\n",
    "    n_estimators = trial.suggest_int('n_estimators', 50, 200, 1)\n",
    "    max_depth = trial.suggest_int('max_depth', 5, 40, 1)\n",
    "    min_samples_leaf = trial.suggest_int('min_samples_leaf', 2, 10, 1)\n",
    "    criterion = trial.suggest_categorical('criterion', criterions)\n",
    "\n",
    "#Создаем модель\n",
    "    model = ensemble.RandomForestClassifier(n_estimators=n_estimators,\n",
    "                                        max_depth=max_depth,\n",
    "                                        min_samples_leaf=min_samples_leaf,\n",
    "                                        criterion=criterion,\n",
    "                                        random_state=42)\n",
    "#Обучаем модель\n",
    "    model.fit(X_train, y_train)\n",
    "    score = cross_val_score(model, X, y, cv=cv, scoring=\"f1\", n_jobs=-1).mean()\n",
    "\n",
    "    return score\n",
    "\n",
    "\n",
    "#Создаем объект исследования\n",
    "study = optuna.create_study(study_name=\"RandomForestClassifier\", direction=\"maximize\")\n",
    "\n",
    "#Ищем лучшую комбинацию гиперпараметров n_trials раз\n",
    "study.optimize(optuna_rf, n_trials=30)\n",
    "\n",
    "print(\"Наилучшие значения гиперпараметров {}\".format(study.best_params))"
   ]
  },
  {
   "cell_type": "code",
   "execution_count": 20,
   "id": "538208be",
   "metadata": {},
   "outputs": [
    {
     "name": "stdout",
     "output_type": "stream",
     "text": [
      "f1_score на тренировочном наборе: 1.00\n",
      "accuracy на тестовом наборе: 0.80\n",
      "f1_score на тестовом наборе: 0.82\n"
     ]
    }
   ],
   "source": [
    "#Создаем модель\n",
    "model = ensemble.RandomForestClassifier(**study.best_params,random_state=42)\n",
    "\n",
    "#Обучаем модель\n",
    "model.fit(X_train, y_train)\n",
    "\n",
    "#Предсказываем результат для тренировочной и тестовой выборки\n",
    "y_train_pred = model.predict(X_train)\n",
    "y_test_pred = model.predict(X_test)\n",
    "\n",
    "#Рассчитываем метрики\n",
    "print('f1_score на тренировочном наборе: {:.2f}'.format(metrics.f1_score(y_train, y_train_pred)))\n",
    "print(\"accuracy на тестовом наборе: {:.2f}\".format(model.score(X_test, y_test)))\n",
    "print('f1_score на тестовом наборе: {:.2f}'.format(metrics.f1_score(y_test, y_test_pred)))"
   ]
  },
  {
   "cell_type": "markdown",
   "id": "8dda0524",
   "metadata": {},
   "source": [
    "# Вывод:\n",
    "С помощью Optuna не удалось еще больше учучшить f1-score.\n",
    "\n",
    "Наилучший f1-score мы получили при использовании модели случайного леса с базовыми гиперпараметрами и она составила 0.82, также помощью Hyperopt и использования кросс-валидации метрика f1-score составила - 0.80 Все подобранные разными методами гиперпараметры не смогли улучшить метрику."
   ]
  },
  {
   "cell_type": "code",
   "execution_count": null,
   "id": "ed8e2912",
   "metadata": {},
   "outputs": [],
   "source": []
  }
 ],
 "metadata": {
  "kernelspec": {
   "display_name": "Python 3 (ipykernel)",
   "language": "python",
   "name": "python3"
  },
  "language_info": {
   "codemirror_mode": {
    "name": "ipython",
    "version": 3
   },
   "file_extension": ".py",
   "mimetype": "text/x-python",
   "name": "python",
   "nbconvert_exporter": "python",
   "pygments_lexer": "ipython3",
   "version": "3.9.13"
  }
 },
 "nbformat": 4,
 "nbformat_minor": 5
}
